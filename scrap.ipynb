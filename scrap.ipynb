{
 "cells": [
  {
   "cell_type": "code",
   "execution_count": 77,
   "metadata": {},
   "outputs": [],
   "source": [
    "from bs4 import BeautifulSoup as bs\n",
    "import requests\n",
    "import pandas as pd\n",
    "import csv\n"
   ]
  },
  {
   "cell_type": "code",
   "execution_count": 78,
   "metadata": {},
   "outputs": [],
   "source": [
    "url='https://en.wikipedia.org/wiki/FIFA_World_Cup'\n",
    "headers = {\"User-Agent\":\"Mozilla/5.0 (Windows NT 10.0; Win64; x64; rv:106.0) Gecko/20100101 Firefox/106.0\"}\n",
    "data=requests.get(url,headers=headers)\n",
    "soup=bs(data.text,'html.parser')\n",
    "\n",
    "#soup.prettify()"
   ]
  },
  {
   "cell_type": "code",
   "execution_count": 79,
   "metadata": {},
   "outputs": [],
   "source": [
    "\n",
    "resp_table=soup.select('table.wikitable')[7]\n",
    "#resp_table\n"
   ]
  },
  {
   "cell_type": "markdown",
   "metadata": {},
   "source": [
    "### listing only the headers\n"
   ]
  },
  {
   "cell_type": "code",
   "execution_count": 80,
   "metadata": {
    "scrolled": true
   },
   "outputs": [],
   "source": [
    "headers=[]\n",
    "for h in resp_table.find_all('th'):\n",
    "    headers.append(h.text.replace('\\n',\"\"))\n",
    "#print(headers)\n",
    "\n"
   ]
  },
  {
   "cell_type": "code",
   "execution_count": 84,
   "metadata": {},
   "outputs": [
    {
     "data": {
      "text/html": [
       "<div>\n",
       "<style scoped>\n",
       "    .dataframe tbody tr th:only-of-type {\n",
       "        vertical-align: middle;\n",
       "    }\n",
       "\n",
       "    .dataframe tbody tr th {\n",
       "        vertical-align: top;\n",
       "    }\n",
       "\n",
       "    .dataframe thead th {\n",
       "        text-align: right;\n",
       "    }\n",
       "</style>\n",
       "<table border=\"1\" class=\"dataframe\">\n",
       "  <thead>\n",
       "    <tr style=\"text-align: right;\">\n",
       "      <th></th>\n",
       "      <th>Rank</th>\n",
       "      <th>Team</th>\n",
       "      <th>Participations</th>\n",
       "      <th>Titles</th>\n",
       "      <th>Pld</th>\n",
       "      <th>W</th>\n",
       "      <th>D</th>\n",
       "      <th>L</th>\n",
       "      <th>GF</th>\n",
       "      <th>GA</th>\n",
       "      <th>GD</th>\n",
       "      <th>Pts</th>\n",
       "    </tr>\n",
       "  </thead>\n",
       "  <tbody>\n",
       "  </tbody>\n",
       "</table>\n",
       "</div>"
      ],
      "text/plain": [
       "Empty DataFrame\n",
       "Columns: [Rank, Team, Participations, Titles, Pld, W, D, L, GF, GA, GD, Pts]\n",
       "Index: []"
      ]
     },
     "execution_count": 84,
     "metadata": {},
     "output_type": "execute_result"
    }
   ],
   "source": [
    "df=pd.DataFrame(columns=headers)\n",
    "#df\n"
   ]
  },
  {
   "cell_type": "code",
   "execution_count": 86,
   "metadata": {},
   "outputs": [],
   "source": [
    "rows=[]\n",
    "row_tags=rows=resp_table.find_all('tr')\n",
    "for r in row_tags[1:]:\n",
    "    dirty_rows=r.find_all('td')\n",
    "    beauty_rows=[rw.text.strip() for rw in dirty_rows]\n",
    "    #print(beauty_rows)\n",
    "    length=len(df)\n",
    "    df.loc[length]=beauty_rows\n",
    "    \n",
    "    "
   ]
  },
  {
   "cell_type": "code",
   "execution_count": 87,
   "metadata": {},
   "outputs": [
    {
     "data": {
      "text/html": [
       "<div>\n",
       "<style scoped>\n",
       "    .dataframe tbody tr th:only-of-type {\n",
       "        vertical-align: middle;\n",
       "    }\n",
       "\n",
       "    .dataframe tbody tr th {\n",
       "        vertical-align: top;\n",
       "    }\n",
       "\n",
       "    .dataframe thead th {\n",
       "        text-align: right;\n",
       "    }\n",
       "</style>\n",
       "<table border=\"1\" class=\"dataframe\">\n",
       "  <thead>\n",
       "    <tr style=\"text-align: right;\">\n",
       "      <th></th>\n",
       "      <th>Rank</th>\n",
       "      <th>Team</th>\n",
       "      <th>Participations</th>\n",
       "      <th>Titles</th>\n",
       "      <th>Pld</th>\n",
       "      <th>W</th>\n",
       "      <th>D</th>\n",
       "      <th>L</th>\n",
       "      <th>GF</th>\n",
       "      <th>GA</th>\n",
       "      <th>GD</th>\n",
       "      <th>Pts</th>\n",
       "    </tr>\n",
       "  </thead>\n",
       "  <tbody>\n",
       "    <tr>\n",
       "      <th>0</th>\n",
       "      <td>1</td>\n",
       "      <td>Brazil</td>\n",
       "      <td>21</td>\n",
       "      <td>5</td>\n",
       "      <td>109</td>\n",
       "      <td>73</td>\n",
       "      <td>18</td>\n",
       "      <td>18</td>\n",
       "      <td>229</td>\n",
       "      <td>105</td>\n",
       "      <td>124</td>\n",
       "      <td>237</td>\n",
       "    </tr>\n",
       "    <tr>\n",
       "      <th>1</th>\n",
       "      <td>2</td>\n",
       "      <td>Germany[124]</td>\n",
       "      <td>19</td>\n",
       "      <td>4</td>\n",
       "      <td>109</td>\n",
       "      <td>67</td>\n",
       "      <td>20</td>\n",
       "      <td>22</td>\n",
       "      <td>226</td>\n",
       "      <td>125</td>\n",
       "      <td>101</td>\n",
       "      <td>221</td>\n",
       "    </tr>\n",
       "    <tr>\n",
       "      <th>2</th>\n",
       "      <td>3</td>\n",
       "      <td>Italy</td>\n",
       "      <td>18</td>\n",
       "      <td>4</td>\n",
       "      <td>83</td>\n",
       "      <td>45</td>\n",
       "      <td>21</td>\n",
       "      <td>17</td>\n",
       "      <td>128</td>\n",
       "      <td>77</td>\n",
       "      <td>51</td>\n",
       "      <td>156</td>\n",
       "    </tr>\n",
       "    <tr>\n",
       "      <th>3</th>\n",
       "      <td>4</td>\n",
       "      <td>Argentina</td>\n",
       "      <td>17</td>\n",
       "      <td>2</td>\n",
       "      <td>81</td>\n",
       "      <td>43</td>\n",
       "      <td>15</td>\n",
       "      <td>23</td>\n",
       "      <td>137</td>\n",
       "      <td>93</td>\n",
       "      <td>44</td>\n",
       "      <td>144</td>\n",
       "    </tr>\n",
       "    <tr>\n",
       "      <th>4</th>\n",
       "      <td>5</td>\n",
       "      <td>France</td>\n",
       "      <td>15</td>\n",
       "      <td>2</td>\n",
       "      <td>66</td>\n",
       "      <td>34</td>\n",
       "      <td>13</td>\n",
       "      <td>19</td>\n",
       "      <td>120</td>\n",
       "      <td>77</td>\n",
       "      <td>43</td>\n",
       "      <td>115</td>\n",
       "    </tr>\n",
       "    <tr>\n",
       "      <th>5</th>\n",
       "      <td>6</td>\n",
       "      <td>England</td>\n",
       "      <td>15</td>\n",
       "      <td>1</td>\n",
       "      <td>69</td>\n",
       "      <td>29</td>\n",
       "      <td>21</td>\n",
       "      <td>19</td>\n",
       "      <td>91</td>\n",
       "      <td>64</td>\n",
       "      <td>27</td>\n",
       "      <td>108</td>\n",
       "    </tr>\n",
       "    <tr>\n",
       "      <th>6</th>\n",
       "      <td>7</td>\n",
       "      <td>Spain</td>\n",
       "      <td>15</td>\n",
       "      <td>1</td>\n",
       "      <td>63</td>\n",
       "      <td>30</td>\n",
       "      <td>15</td>\n",
       "      <td>18</td>\n",
       "      <td>99</td>\n",
       "      <td>72</td>\n",
       "      <td>27</td>\n",
       "      <td>105</td>\n",
       "    </tr>\n",
       "    <tr>\n",
       "      <th>7</th>\n",
       "      <td>8</td>\n",
       "      <td>Uruguay</td>\n",
       "      <td>13</td>\n",
       "      <td>2</td>\n",
       "      <td>56</td>\n",
       "      <td>24</td>\n",
       "      <td>12</td>\n",
       "      <td>20</td>\n",
       "      <td>87</td>\n",
       "      <td>74</td>\n",
       "      <td>13</td>\n",
       "      <td>84</td>\n",
       "    </tr>\n",
       "  </tbody>\n",
       "</table>\n",
       "</div>"
      ],
      "text/plain": [
       "  Rank          Team Participations Titles  Pld   W   D   L   GF   GA   GD  \\\n",
       "0    1        Brazil             21      5  109  73  18  18  229  105  124   \n",
       "1    2  Germany[124]             19      4  109  67  20  22  226  125  101   \n",
       "2    3         Italy             18      4   83  45  21  17  128   77   51   \n",
       "3    4     Argentina             17      2   81  43  15  23  137   93   44   \n",
       "4    5        France             15      2   66  34  13  19  120   77   43   \n",
       "5    6       England             15      1   69  29  21  19   91   64   27   \n",
       "6    7         Spain             15      1   63  30  15  18   99   72   27   \n",
       "7    8       Uruguay             13      2   56  24  12  20   87   74   13   \n",
       "\n",
       "   Pts  \n",
       "0  237  \n",
       "1  221  \n",
       "2  156  \n",
       "3  144  \n",
       "4  115  \n",
       "5  108  \n",
       "6  105  \n",
       "7   84  "
      ]
     },
     "execution_count": 87,
     "metadata": {},
     "output_type": "execute_result"
    }
   ],
   "source": [
    "df\n",
    "    "
   ]
  },
  {
   "cell_type": "code",
   "execution_count": 88,
   "metadata": {},
   "outputs": [],
   "source": [
    "df.to_csv('champions.csv',index=False)"
   ]
  },
  {
   "cell_type": "code",
   "execution_count": null,
   "metadata": {},
   "outputs": [],
   "source": []
  }
 ],
 "metadata": {
  "kernelspec": {
   "display_name": "Python 3 (ipykernel)",
   "language": "python",
   "name": "python3"
  },
  "language_info": {
   "codemirror_mode": {
    "name": "ipython",
    "version": 3
   },
   "file_extension": ".py",
   "mimetype": "text/x-python",
   "name": "python",
   "nbconvert_exporter": "python",
   "pygments_lexer": "ipython3",
   "version": "3.11.0"
  },
  "vscode": {
   "interpreter": {
    "hash": "d3e10ef16274dd72e574b8fa73b58450b957d8421a2901baded3cca26fcf5dda"
   }
  }
 },
 "nbformat": 4,
 "nbformat_minor": 2
}
